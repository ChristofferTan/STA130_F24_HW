{
 "cells": [
  {
   "cell_type": "markdown",
   "id": "6ea5b3cc",
   "metadata": {},
   "source": [
    "# STA130 TUT 02 (Sep13)<br><br> 👨‍💻 👩🏻‍💻 <u>Coding with data types, for loops, and logical control<u>\n"
   ]
  },
  {
   "cell_type": "markdown",
   "id": "9047160dfd885818",
   "metadata": {},
   "source": [
    "\n",
    "## ♻️ 📚 Review / Questions [10 minutes]\n",
    "1. Follow up questions and clarifications regarding regarding **notebooks, markdown, ChatBots, or `Python` code** previously introduced in the Sep06 TUT and Sep09 LEC \n",
    "\n",
    "> 1. We're continuing to dive into using **notebooks, markdown**, and `Python` as a tool: building comfort and capability working with **ChatBots** to leverage `Python` code is the objective of the current phase of the course...<br><br>\n",
    ">\n",
    "> 2. *Questions about [HW01](https://github.com/pointOfive/stat130chat130/blob/main/HW/STA130F24_HW01_DueSep12.ipynb) which was due yesterday (Thursday Sep12) should be asked in OH from 4-6PM ET Tuesday, Wednesday, and Thursday (see the [Quercus course homepage](https://q.utoronto.ca/courses/354091) for further details)*<br><br>\n",
    "> \n",
    "> 3. *And same story, and even moreso for questions about [HW02](https://github.com/pointOfive/stat130chat130/blob/main/HW/STA130F24_HW02_DueSep19.ipynb) which was due next Thursday (Sep19) (e.g., regarding the \"pre-lecture\" questions...)*"
   ]
  },
  {
   "cell_type": "markdown",
   "id": "d5668e46",
   "metadata": {},
   "source": [
    "## 🚧 🏗️ Demo (using Jupyter Notebook and ChatBots) [50 minutes]\n",
    "\n",
    "\n",
    "#### 1. **[35 of the 50 minutes]** Demonstrate some traditional `python` coding structures\n",
    "\n",
    "1. `tuple()`, `list()`, vs `dict()  # immutable and mutable \"lists\" vs key-value pairs`<br><br>\n",
    "    \n",
    "2. some `NumPy` functions:<br><br>\n",
    "    \n",
    "    1. `import numpy as np`\n",
    "    2. `np.array([1,2,3]) # a faster \"list\"`\n",
    "    3. `np.random.choice([1,2,3])`<br><br>\n",
    "        \n",
    "3. `for i in range(n):`, `for x in a_list:`, `for i,x in enumerate(a_list):`, and `print()`<br><br>\n",
    "    \n",
    "    1. `variable` as the last line of a \"code cell\" in a notebook \"prints\" the value\n",
    "    2. but `print()` is needed inside `for` loop if you want to output something<br><br>\n",
    "        \n",
    "4. `if`/`else` conditional statements<br><br> \n",
    "\n",
    "    1. perhaps with `x in b_list`<br>or `i % 2 == 0` to treat evens/odds differently  (sort of like the infamous \"FizzBuzz\" problem that some people [can't complete](https://www.quora.com/On-average-what-is-the-proportion-of-applicants-that-cannot-pass-a-simple-FizzBuzz-test-based-on-your-personal-experience-or-on-facts) as part of a coding interview challenge)\n",
    "    2. note the \"similarity\" to the `try-except` block structure when that's encountered in the code below since it's used there (despite being a \"more advanced\" \n",
    "        \n",
    "#### 2. **[5 of the 50 minutes]** Reintroduce the [Monty Hall problem](https://github.com/pointOfive/stat130chat130/blob/main/CHATLOG/wk2/GPT/SLS/00001_gpt3p5_MonteHall_ProblemExplanation_v1.md) and see which of the coding structures above you recognize (or do not see) in the Monty Hall simulation code below\n",
    "\n",
    "#### 3. **[10 of the 50 minutes]** Use any remaining time to start a demonstration of using a ChatBot to (a) understand what the code below is doing and (b) suggest an improved streamlined version of the `for` loop simulation code that might be easier to explain and understand\n",
    "    \n",
    "> ChatGPT version 3.5 [was very effective](https://github.com/pointOfive/stat130chat130/blob/main/CHATLOG/wk2/GPT/SLS/00003_gpt3p5_MonteHall_CodeDiscussion_v1.md) for (b), while Copilot was shockingly bad on a [first try](../CHATLOG/wk2/COP/SLS/00001_creative_MonteHall_CodeDiscussion_v1.md) but was able to do better [with some helpful guidance](https://github.com/pointOfive/stat130chat130/blob/main/CHATLOG/wk2/COP/SLS/00002_concise_MonteHall_CodeDiscussion_v2.md)."
   ]
  },
  {
   "cell_type": "code",
   "execution_count": 8,
   "id": "45faa7ee",
   "metadata": {},
   "outputs": [
    {
     "data": {
      "text/plain": [
       "[4, 'cat', True]"
      ]
     },
     "execution_count": 8,
     "metadata": {},
     "output_type": "execute_result"
    }
   ],
   "source": [
    "# Part 1.1\n",
    "my_list = [1, 2, 3]\n",
    "my_list[1] = 4\n",
    "\n",
    "my_list[2] = \"cat\"\n",
    "my_list.append(True)\n",
    "my_list.remove(1)\n",
    "\n",
    "\n",
    "my_list"
   ]
  },
  {
   "cell_type": "code",
   "execution_count": 29,
   "id": "5a425903",
   "metadata": {},
   "outputs": [
    {
     "data": {
      "text/plain": [
       "(1, 2, 'banana')"
      ]
     },
     "execution_count": 29,
     "metadata": {},
     "output_type": "execute_result"
    }
   ],
   "source": [
    "my_tuple = (1, 2, \"banana\") # immutable \n",
    "\n",
    "my_tuple"
   ]
  },
  {
   "cell_type": "code",
   "execution_count": 14,
   "id": "4f19b3dd",
   "metadata": {},
   "outputs": [
    {
     "name": "stdout",
     "output_type": "stream",
     "text": [
      "{'name': 'Alice', 'age': 25, 'city': 'New York'}\n",
      "{'name': 'Alice', 'age': 25, 'city': 'New York'}\n"
     ]
    }
   ],
   "source": [
    "# Empty dictionary\n",
    "my_dict = dict()\n",
    "\n",
    "# Creating a dictionary with key-value pairs\n",
    "my_dict = dict(name=\"Alice\", age=25, city=\"New York\") # first method\n",
    "my_dict2 = {'name': 'Alice', 'age': 25, 'city': \"New York\"} # second method\n",
    "\n",
    "# Output: {'name': 'Alice', 'age': 25, 'city': 'New York'}\n",
    "print(my_dict)\n",
    "print(my_dict2)\n"
   ]
  },
  {
   "cell_type": "code",
   "execution_count": 17,
   "id": "58f70b99",
   "metadata": {},
   "outputs": [
    {
     "name": "stdout",
     "output_type": "stream",
     "text": [
      "[2 3 4]\n",
      "[2 4 6]\n",
      "(2, 2)\n",
      "[[3 5]\n",
      " [7 9]]\n"
     ]
    }
   ],
   "source": [
    "# Part 1.2\n",
    "import numpy as np\n",
    "\n",
    "arr = np.array([1, 2, 3])\n",
    "print(arr + 1)  # Output: array([2, 3, 4]) (element-wise operation)\n",
    "\n",
    "arr = np.array([1, 2, 3])\n",
    "print(arr * 2)  # Output: array([2, 4, 6]) (element-wise multiplication)\n",
    "\n",
    "arr = np.array([[1, 2], [3, 4]])\n",
    "print(arr.shape)  # Output: (2, 2)\n",
    "\n",
    "arr2 = np.array([[2, 3], [4, 5]])\n",
    "print(arr + arr2)"
   ]
  },
  {
   "cell_type": "code",
   "execution_count": null,
   "id": "170a0809",
   "metadata": {},
   "outputs": [],
   "source": [
    "np.random.choice([1, 2, 3], size=5)\n",
    "# Output: array([3, 2, 1, 3, 2]) (randomly chosen with replacement)\n",
    "\n",
    "np.random.choice([1, 2, 3], size=5)\n",
    "# Output: array([3, 2, 1, 3, 2]) (randomly chosen with replacement)\n",
    "\n",
    "np.random.choice([1, 2, 3], size=2, replace=False)\n",
    "# Output: array([3, 1]) (chosen without replacement, elements are not repeated)"
   ]
  },
  {
   "cell_type": "code",
   "execution_count": 18,
   "id": "47ce56bf",
   "metadata": {},
   "outputs": [
    {
     "name": "stdout",
     "output_type": "stream",
     "text": [
      "0\n",
      "1\n",
      "2\n",
      "3\n",
      "4\n"
     ]
    }
   ],
   "source": [
    "# Part 1.3\n",
    "for i in range(5): # start from zero and ends at n-1\n",
    "    print(i)"
   ]
  },
  {
   "cell_type": "code",
   "execution_count": 20,
   "id": "d1822dc5",
   "metadata": {},
   "outputs": [
    {
     "name": "stdout",
     "output_type": "stream",
     "text": [
      "3\n",
      "4\n",
      "5\n"
     ]
    }
   ],
   "source": [
    "for i in range(3, 6): # start from three and ends at 5\n",
    "    print(i)"
   ]
  },
  {
   "cell_type": "code",
   "execution_count": 21,
   "id": "2a84d7fb",
   "metadata": {},
   "outputs": [
    {
     "name": "stdout",
     "output_type": "stream",
     "text": [
      "2\n",
      "5\n",
      "8\n"
     ]
    }
   ],
   "source": [
    "for i in range(2, 10, 3): # start from 2 and ends at 9 with an increment of 3\n",
    "    print(i)"
   ]
  },
  {
   "cell_type": "code",
   "execution_count": 27,
   "id": "86d819cc",
   "metadata": {},
   "outputs": [],
   "source": [
    "my_list = [1, \"apple\", True]\n",
    "\n",
    "for item in my_list:\n",
    "    print(item)"
   ]
  },
  {
   "cell_type": "code",
   "execution_count": 26,
   "id": "9e65a94b",
   "metadata": {},
   "outputs": [
    {
     "name": "stdout",
     "output_type": "stream",
     "text": [
      "At index 0 : 1\n",
      "At index 1 : apple\n",
      "At index 2 : True\n"
     ]
    }
   ],
   "source": [
    "for index, item in enumerate(my_list):\n",
    "    print(\"At index \" + str(index) + \" : \" + str(item))"
   ]
  },
  {
   "cell_type": "code",
   "execution_count": 31,
   "id": "a5629ccd",
   "metadata": {},
   "outputs": [
    {
     "name": "stdout",
     "output_type": "stream",
     "text": [
      "You are a minor.\n"
     ]
    }
   ],
   "source": [
    "# Part 1.4\n",
    "age = 15\n",
    "\n",
    "if age >= 18:\n",
    "    print(\"You are an adult.\")  # This block executes if the condition is True\n",
    "else: # age < 18\n",
    "    print(\"You are a minor.\")  # This block executes if the condition is False"
   ]
  },
  {
   "cell_type": "code",
   "execution_count": 33,
   "id": "41e76cd8",
   "metadata": {},
   "outputs": [
    {
     "name": "stdout",
     "output_type": "stream",
     "text": [
      "Grade: D\n"
     ]
    }
   ],
   "source": [
    "score = 60\n",
    "\n",
    "if score >= 90:\n",
    "    print(\"Grade: A\")\n",
    "elif score >= 80:\n",
    "    print(\"Grade: B\")\n",
    "elif score >= 70:\n",
    "    print(\"Grade: C\")\n",
    "else:\n",
    "    print(\"Grade: D\")"
   ]
  },
  {
   "cell_type": "code",
   "execution_count": 35,
   "id": "d108cc99",
   "metadata": {},
   "outputs": [
    {
     "name": "stdout",
     "output_type": "stream",
     "text": [
      "3 is an odd number\n",
      "645 is an odd number\n",
      "32 is an even number\n",
      "38 is an even number\n",
      "543 is an odd number\n"
     ]
    }
   ],
   "source": [
    "b_list = [3, 645, 32, 38, 543]\n",
    "\n",
    "# even number: x % 2 == 0\n",
    "# odd number: x % 2 == 1\n",
    "\n",
    "for item in b_list:\n",
    "    if item % 2 == 0:\n",
    "        print(str(item) + \" is an even number\")\n",
    "    else:\n",
    "        print(str(item) + \" is an odd number\")"
   ]
  },
  {
   "cell_type": "code",
   "execution_count": 37,
   "id": "aaa1cf3d",
   "metadata": {},
   "outputs": [
    {
     "name": "stdout",
     "output_type": "stream",
     "text": [
      "a\n",
      "b\n",
      "Error: You cannot divide by zero.\n",
      "hello\n"
     ]
    }
   ],
   "source": [
    "try:\n",
    "    numerator = 10\n",
    "    denominator = 0\n",
    "    result = numerator / denominator\n",
    "    print(result)\n",
    "except ZeroDivisionError:\n",
    "    print(\"Error: You cannot divide by zero.\")"
   ]
  },
  {
   "cell_type": "code",
   "execution_count": null,
   "id": "d9cfb02869afc350",
   "metadata": {
    "ExecuteTime": {
     "end_time": "2024-05-15T21:54:31.981069Z",
     "start_time": "2024-05-15T21:54:30.771611Z"
    }
   },
   "outputs": [],
   "source": [
    "# Monte Hall Simulation Code -- not the only way to code this, but it's what Prof. Schwartz came up with...\n",
    "\n",
    "import numpy as np\n",
    "all_door_options = (1,2,3)  # tuple\n",
    "my_door_choice = 1  \n",
    "i_won = 0\n",
    "reps = 100000\n",
    "for i in range(reps): # iterate the simulation for 100000 times\n",
    "    secret_winning_door = np.random.choice(all_door_options) # door 3\n",
    "    all_door_options_list = list(all_door_options) # tuple does not support mutability [1, 2, 3]\n",
    "    \n",
    "    # take the secret_winning_door, so we don't show it as a \"goat\" losing door\n",
    "    all_door_options_list.remove(secret_winning_door) # [1, 2]\n",
    "    try:\n",
    "        # if my_door_choice was secret_winning_door then it's already removed\n",
    "        all_door_options_list.remove(my_door_choice)  # [2]\n",
    "    except:\n",
    "        pass\n",
    "    \n",
    "    # show a \"goat\" losing door and remove it\n",
    "    goat_door_reveal = np.random.choice(all_door_options_list) # 2\n",
    "    all_door_options_list.remove(goat_door_reveal) # []\n",
    "\n",
    "    # put the secret_winning_door back in if it wasn't our choice\n",
    "    # we previously removed it, so it would be shown as a  \"goat\" losing door\n",
    "    if secret_winning_door != my_door_choice:\n",
    "        all_door_options_list.append(secret_winning_door) # [3]\n",
    "    # if secret_winning_door was our choice then all that's left in the list is a \"goat\" losing door\n",
    "    # if secret_winning_door wasn't our choice then it's all that will be left in the list\n",
    "\n",
    "    # swap strategy\n",
    "    #all_door_options_list will only contain one door left (player's new choice after they switch)\n",
    "    my_door_choice = all_door_options_list[0] # 3\n",
    "\n",
    "    if my_door_choice == secret_winning_door:\n",
    "        i_won += 1\n",
    "\n",
    "print(i_won/reps)"
   ]
  },
  {
   "cell_type": "code",
   "execution_count": null,
   "id": "c85525a5",
   "metadata": {},
   "outputs": [],
   "source": [
    "# Monte Hall Simulation Code -- not the only way to code this, but it's what Prof. Schwartz came up with...\n",
    "\n",
    "import numpy as np\n",
    "all_door_options = (1,2,3)  # tuple\n",
    "my_door_choice = 1  \n",
    "i_won = 0\n",
    "reps = 10000000\n",
    "for i in range(reps): # iterate the simulation for 100000 times\n",
    "    secret_winning_door = np.random.choice(all_door_options) # door 1\n",
    "    all_door_options_list = list(all_door_options) # tuple does not support mutability [1, 2, 3]\n",
    "    \n",
    "    # take the secret_winning_door, so we don't show it as a \"goat\" losing door\n",
    "    all_door_options_list.remove(secret_winning_door) # [2 ,3]\n",
    "    try:\n",
    "        # if my_door_choice was secret_winning_door then it's already removed\n",
    "        all_door_options_list.remove(my_door_choice)  # error\n",
    "    except: # catch\n",
    "        pass # no line of code will be run\n",
    "    \n",
    "    # show a \"goat\" losing door and remove it\n",
    "    goat_door_reveal = np.random.choice(all_door_options_list) # [2, 3] -> 2\n",
    "    all_door_options_list.remove(goat_door_reveal) # [3]\n",
    "\n",
    "    # put the secret_winning_door back in if it wasn't our choice\n",
    "    # we previously removed it, so it would be shown as a  \"goat\" losing door\n",
    "    if secret_winning_door != my_door_choice:\n",
    "        all_door_options_list.append(secret_winning_door) \n",
    "    # if secret_winning_door was our choice then all that's left in the list is a \"goat\" losing door\n",
    "    # if secret_winning_door wasn't our choice then it's all that will be left in the list\n",
    "    \n",
    "    # all_door_options will only include 1 item \n",
    "    \n",
    "    # swap strategy\n",
    "    #all_door_options_list will only contain one door left (player's new choice after they switch)\n",
    "    my_door_choice = all_door_options_list[0] # 3\n",
    "\n",
    "    if my_door_choice == secret_winning_door:\n",
    "        i_won += 1\n",
    "\n",
    "print(i_won/reps)"
   ]
  },
  {
   "cell_type": "code",
   "execution_count": 47,
   "id": "fb0b1f37",
   "metadata": {},
   "outputs": [
    {
     "name": "stdout",
     "output_type": "stream",
     "text": [
      "Presentation for group 1\n"
     ]
    }
   ],
   "source": [
    "# Group Presentation\n",
    "print(\"Presentation for group \" + str(np.random.choice([1, 3])))"
   ]
  },
  {
   "cell_type": "markdown",
   "id": "b1985697e415697b",
   "metadata": {},
   "source": [
    "## 💬 🗣️ Communication [40 minutes]\n",
    "    \n",
    "#### 1. **[5 of the 40 minutes]** Quickly execute the \"rule of 5\" and take 5 minutes to break into 5 new groups of about 5 students and assign the following 5 questions to the 5 groups (and note that this instruction uses fives 5's 😉). Consider allowing students to preferentially select which group they join by calling for volunteers for each prompt, and feel free to use 5 minutes from the next (dicussion) sections doing so if you choose to (since this could be viewed as being a part of the \"discussion\").\n",
    "\n",
    "> *For each of the prompts, groups should consider the pros and cons of two options, the potential impact of a decision to persue one of the options, and how they take into account how uncertainty influences their thinking about the options.<br><br>*\n",
    ">\n",
    "> <details class=\"details-example\"><summary style=\"color:blue\"><u>Further Guidance</u></summary>\n",
    ">     \n",
    "> I asked a ChatBot to create a group activity for you that was related to decision-making under uncertainty using probability, and it produced the following questions. \n",
    "> \n",
    "> *This is a little bit like one of the ideas in the \"Afterward\" of HW01 asking a ChatBot to suggest and explain some other, perhaps less well-known \"unintuitive surprising statistics paradoxes\" (besides the \"World War 2 Plane\" and \"Monte Hall\" problems)*\n",
    ">\n",
    "> </details>\n",
    "\n",
    "1. **Stock Investment Strategy:** Students are investors trying to maximize their returns in the stock market. They must decide between two investment strategies: \"diversified portfolio\" or \"focused portfolio.\" Each strategy has different probabilities of success based on market conditions.<br><br>\n",
    "    \n",
    "    1. Diversified Portfolio: Spread investments across multiple industries.\n",
    "    2. Focused Portfolio: Concentrate investments in a few high-potential stocks.<br><br>\n",
    "        \n",
    "2. **Healthcare Treatment Decision:** Students are healthcare professionals deciding between two treatment options for a patient's condition. Each treatment has different success rates and potential side effects.<br><br>\n",
    "    \n",
    "    1. Treatment A: High success rate but moderate side effects.\n",
    "    2. Treatment B: Lower success rate but minimal side effects.<br><br>\n",
    "        \n",
    "3. **Sports Team Strategy:** Students are coaches of a sports team planning their game strategy. They must decide between two tactics: \"offensive strategy\" or \"defensive strategy.\" Each strategy has different probabilities of winning based on the opponent's strengths and weaknesses.<br><br>\n",
    "    \n",
    "    1. Offensive Strategy: Focus on scoring goals/points aggressively.\n",
    "    2. Defensive Strategy: Prioritize defense to prevent the opponent from scoring.<br><br>\n",
    "        \n",
    "4. **Career Path Decision:** Students are recent graduates deciding between two career paths: \"corporate job\" or \"entrepreneurship.\" Each path has different probabilities of success and factors to consider, such as job security, income potential, and work-life balance.<br><br>\n",
    "    \n",
    "    1. Corporate Job: Stable income but limited growth opportunities.\n",
    "    2. Entrepreneurship: Higher potential for success but greater risk and uncertainty.<br><br>\n",
    "        \n",
    "5. **Environmental Conservation Strategy:** Students are environmental activists advocating for conservation efforts in a wildlife reserve. They must decide between two conservation strategies: \"habitat preservation\" or \"species reintroduction.\" Each strategy has different probabilities of achieving long-term sustainability for the ecosystem.<br><br>\n",
    "    \n",
    "    1. Habitat Preservation: Protect existing habitats from human encroachment.\n",
    "    2. Species Reintroduction: Reintroduce endangered species to restore ecological balance.\n",
    "\n",
    "\n",
    "#### 2. **[15 to 20 of the 40 minutes]** Each group plans and prepares a brief (approximately 3 minute) summary (a) introducing their problem context and (b) outlining their decision and the rationale behind it. The group presentations should address\n",
    "\n",
    "1. the expected outcomes of their decision\n",
    "2. the risks involved\n",
    "3. and why they believe their choice is the best in light of their characterization of the degree uncertainty present in their context \n",
    "\n",
    "#### 3. **[15 to 20 of the 40 minutes]** Each group gives their (approximately 3 minute) planned presentation. If time permits, engaging in some (students or TA) Q&A seeking clarification or challenging group decisions would be ideal.\n",
    "\n",
    "Groups who manage to plan a presentation where multiple group members actively part of the presentation should be awarded \"gold stars\", figuratively, of course, since actualy gold, or stars, of gold star stickers are unfortunately momentarily in short supply"
   ]
  }
 ],
 "metadata": {
  "kernelspec": {
   "display_name": "Python 3 (ipykernel)",
   "language": "python",
   "name": "python3"
  },
  "language_info": {
   "codemirror_mode": {
    "name": "ipython",
    "version": 3
   },
   "file_extension": ".py",
   "mimetype": "text/x-python",
   "name": "python",
   "nbconvert_exporter": "python",
   "pygments_lexer": "ipython3",
   "version": "3.11.6"
  }
 },
 "nbformat": 4,
 "nbformat_minor": 5
}
